{
 "cells": [
  {
   "cell_type": "markdown",
   "metadata": {},
   "source": [
    "Today we are going to visualize my life using Fitbit and Matplotlib. \n",
    "\n",
    "# What is Fitbit\n",
    "\n",
    "[Fitbit](https://www.fitbit.com) is a fitness watch that tracks your sleep, heart rate, and activity.\n",
    "Fitbit is able to track your steps, however, it is also able to detect multiple types of activity\n",
    "like running, walking, \"sport\" and biking."
   ]
  },
  {
   "cell_type": "markdown",
   "metadata": {},
   "source": [
    "# What is Matplotlib\n",
    "\n",
    "[Matplotlib](https://matplotlib.org/) is a python visualization library that enables you to create bar graphs, line graphs, distributions and many more things.\n",
    "Being able to visualize your results is essential to any person working with data at any scale.\n",
    "Although I like [GGplot](https://ggplot2.tidyverse.org/) in R more than Matplotlib, Matplotlib is still my go to graphing library for Python. "
   ]
  },
  {
   "cell_type": "markdown",
   "metadata": {},
   "source": [
    "# Getting Your Data\n",
    "\n",
    "There are two main ways that you can get your Fitbit data:\n",
    "\n",
    "- Fitbit API\n",
    "- Data Archival Export\n",
    "\n",
    "\n",
    "Since connecting to the API and setting up all the web hooks can be a pain, I'm just going to use the data export option because this is only for one person.\n",
    "You can export your data here: [https://www.fitbit.com/settings/data/export](https://www.fitbit.com/settings/data/export).\n",
    "\n",
    "![Data export on fitbit's website](dataExport.png)\n",
    "\n",
    "The Fitbit data archive was very organized and kept meticulous records of everything. \n",
    "All of the data was organized in separate JSON files labeled by date.\n",
    "Fitbit keeps around 1MB of data on you per day; most of this data is from the heart rate sensors.\n",
    "Although 1MB of data may sound like a ton of data, it is probably a lot less if you store it in formats other than JSON. \n",
    "When I downloaded the compressed file it was 20MB, but when I extracted it, it was 380MB!\n",
    "I've only been using Fitbit for 11 months at this point. \n",
    "\n",
    "![compressed data](compression.png)"
   ]
  },
  {
   "cell_type": "markdown",
   "metadata": {},
   "source": [
    "## Sleep\n",
    "\n",
    "Sleep is something fun to visualize.\n",
    "No matter how much of it you get you still feel tired as a college student.\n",
    "\n"
   ]
  },
  {
   "cell_type": "markdown",
   "metadata": {},
   "source": [
    "## Resting Heart Rate"
   ]
  },
  {
   "cell_type": "markdown",
   "metadata": {},
   "source": [
    "## Steps"
   ]
  }
 ],
 "metadata": {
  "kernelspec": {
   "display_name": "Python 3",
   "language": "python",
   "name": "python3"
  },
  "language_info": {
   "codemirror_mode": {
    "name": "ipython",
    "version": 3
   },
   "file_extension": ".py",
   "mimetype": "text/x-python",
   "name": "python",
   "nbconvert_exporter": "python",
   "pygments_lexer": "ipython3",
   "version": "3.7.6"
  }
 },
 "nbformat": 4,
 "nbformat_minor": 4
}
